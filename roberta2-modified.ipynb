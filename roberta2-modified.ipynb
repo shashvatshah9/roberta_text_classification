{
 "cells": [
  {
   "cell_type": "code",
   "execution_count": 2,
   "metadata": {},
   "outputs": [
    {
     "name": "stdout",
     "output_type": "stream",
     "text": [
      "Mon Apr  3 13:34:45 2023       \n",
      "+-----------------------------------------------------------------------------+\n",
      "| NVIDIA-SMI 520.61.05    Driver Version: 520.61.05    CUDA Version: 11.8     |\n",
      "|-------------------------------+----------------------+----------------------+\n",
      "| GPU  Name        Persistence-M| Bus-Id        Disp.A | Volatile Uncorr. ECC |\n",
      "| Fan  Temp  Perf  Pwr:Usage/Cap|         Memory-Usage | GPU-Util  Compute M. |\n",
      "|                               |                      |               MIG M. |\n",
      "|===============================+======================+======================|\n",
      "|   0  Tesla V100-PCIE...  On   | 00000000:06:00.0 Off |                    0 |\n",
      "| N/A   28C    P0    23W / 250W |      0MiB / 32768MiB |      0%      Default |\n",
      "|                               |                      |                  N/A |\n",
      "+-------------------------------+----------------------+----------------------+\n",
      "                                                                               \n",
      "+-----------------------------------------------------------------------------+\n",
      "| Processes:                                                                  |\n",
      "|  GPU   GI   CI        PID   Type   Process name                  GPU Memory |\n",
      "|        ID   ID                                                   Usage      |\n",
      "|=============================================================================|\n",
      "|  No running processes found                                                 |\n",
      "+-----------------------------------------------------------------------------+\n"
     ]
    }
   ],
   "source": [
    "! nvidia-smi"
   ]
  },
  {
   "cell_type": "code",
   "execution_count": 3,
   "metadata": {},
   "outputs": [
    {
     "name": "stderr",
     "output_type": "stream",
     "text": [
      "2023-04-03 13:34:55.963128: I tensorflow/core/util/util.cc:169] oneDNN custom operations are on. You may see slightly different numerical results due to floating-point round-off errors from different computation orders. To turn them off, set the environment variable `TF_ENABLE_ONEDNN_OPTS=0`.\n"
     ]
    }
   ],
   "source": [
    "import os\n",
    "import time\n",
    "import torch\n",
    "\n",
    "from transformers import RobertaForSequenceClassification, RobertaTokenizer, Trainer, TrainingArguments, models\n",
    "from datasets import load_dataset\n",
    "\n",
    "import numpy as np\n",
    "from sklearn.metrics import accuracy_score, precision_recall_fscore_support"
   ]
  },
  {
   "cell_type": "code",
   "execution_count": 4,
   "metadata": {},
   "outputs": [],
   "source": [
    "t = torch.cuda.get_device_properties(0).total_memory\n",
    "BATCH_SIZE = int(np.floor(t/1e9))\n"
   ]
  },
  {
   "cell_type": "code",
   "execution_count": 5,
   "metadata": {},
   "outputs": [
    {
     "name": "stderr",
     "output_type": "stream",
     "text": [
      "Found cached dataset ag_news (/home/sss9772/.cache/huggingface/datasets/ag_news/default/0.0.0/bc2bcb40336ace1a0374767fc29bb0296cdaf8a6da7298436239c54d79180548)\n"
     ]
    },
    {
     "data": {
      "application/vnd.jupyter.widget-view+json": {
       "model_id": "54f0cb1133ce45c2b31df586ebcd7128",
       "version_major": 2,
       "version_minor": 0
      },
      "text/plain": [
       "  0%|          | 0/2 [00:00<?, ?it/s]"
      ]
     },
     "metadata": {},
     "output_type": "display_data"
    },
    {
     "name": "stdout",
     "output_type": "stream",
     "text": [
      "['World', 'Sports', 'Business', 'Sci/Tech']\n"
     ]
    }
   ],
   "source": [
    "tokenizer = RobertaTokenizer.from_pretrained('roberta-base')\n",
    "dataset = load_dataset('ag_news')\n",
    "print(dataset['train'].features['label'].names)\n",
    "num_labels = len(dataset['train'].features['label'].names)"
   ]
  },
  {
   "cell_type": "code",
   "execution_count": 6,
   "metadata": {},
   "outputs": [
    {
     "name": "stderr",
     "output_type": "stream",
     "text": [
      "Some weights of the model checkpoint at roberta-base were not used when initializing RobertaForSequenceClassification: ['roberta.pooler.dense.bias', 'lm_head.layer_norm.weight', 'lm_head.dense.bias', 'lm_head.decoder.weight', 'lm_head.layer_norm.bias', 'roberta.pooler.dense.weight', 'lm_head.dense.weight', 'lm_head.bias']\n",
      "- This IS expected if you are initializing RobertaForSequenceClassification from the checkpoint of a model trained on another task or with another architecture (e.g. initializing a BertForSequenceClassification model from a BertForPreTraining model).\n",
      "- This IS NOT expected if you are initializing RobertaForSequenceClassification from the checkpoint of a model that you expect to be exactly identical (initializing a BertForSequenceClassification model from a BertForSequenceClassification model).\n",
      "Some weights of RobertaForSequenceClassification were not initialized from the model checkpoint at roberta-base and are newly initialized: ['classifier.out_proj.bias', 'classifier.out_proj.weight', 'classifier.dense.weight', 'classifier.dense.bias']\n",
      "You should probably TRAIN this model on a down-stream task to be able to use it for predictions and inference.\n"
     ]
    }
   ],
   "source": [
    "model = RobertaForSequenceClassification.from_pretrained('roberta-base', num_labels=num_labels)\n",
    "config = models.roberta.configuration_roberta.RobertaConfig(hidden_size = 768, intermediate_size = 768)\n",
    "\n",
    "model.roberta.encoder.layer[11].intermediate = models.roberta.modeling_roberta.RobertaIntermediate(config)\n",
    "model.roberta.encoder.layer[11].output = models.roberta.modeling_roberta.RobertaOutput(config)"
   ]
  },
  {
   "cell_type": "code",
   "execution_count": 7,
   "metadata": {},
   "outputs": [
    {
     "name": "stdout",
     "output_type": "stream",
     "text": [
      "tensor(1.0886, grad_fn=<NllLossBackward0>)\n",
      "tensor([[-0.1574,  0.4531,  0.2560, -0.0478]], grad_fn=<AddmmBackward0>)\n",
      "1\n"
     ]
    }
   ],
   "source": [
    "## input string, should classify as a business news\n",
    "input_str = 'the quarterly results of jpmc look good'\n",
    "\n",
    "inputs = tokenizer(input_str, return_tensors='pt')\n",
    "labels = torch.tensor([1]).unsqueeze(0)\n",
    "outputs = model(**inputs, labels=labels)\n",
    "loss, logits = outputs[:2]\n",
    "print(loss)\n",
    "print(logits)\n",
    "\n",
    "## Although the output we see, is label 1, i.e. sports news. DOESN'T MAKE SENSE\n",
    "print(np.argmax(logits.detach().numpy()))"
   ]
  },
  {
   "cell_type": "code",
   "execution_count": 8,
   "metadata": {},
   "outputs": [],
   "source": [
    "device = torch.device('cuda' if torch.cuda.is_available() else 'cpu')"
   ]
  },
  {
   "cell_type": "code",
   "execution_count": 9,
   "metadata": {},
   "outputs": [
    {
     "data": {
      "application/vnd.jupyter.widget-view+json": {
       "model_id": "1ab745a5a85f4bbd8aafd0215435467b",
       "version_major": 2,
       "version_minor": 0
      },
      "text/plain": [
       "Map:   0%|          | 0/120000 [00:00<?, ? examples/s]"
      ]
     },
     "metadata": {},
     "output_type": "display_data"
    },
    {
     "data": {
      "application/vnd.jupyter.widget-view+json": {
       "model_id": "63f0c4c720b14971a90a533987d387e5",
       "version_major": 2,
       "version_minor": 0
      },
      "text/plain": [
       "Map:   0%|          | 0/7600 [00:00<?, ? examples/s]"
      ]
     },
     "metadata": {},
     "output_type": "display_data"
    }
   ],
   "source": [
    "train_data = dataset['train'].map(lambda text: tokenizer(text['text'], padding=\"max_length\", truncation=True, max_length=512), batched=True)\n",
    "test_data = dataset['test'].map(lambda text: tokenizer(text['text'], padding=\"max_length\", truncation=True, max_length=512), batched=True)"
   ]
  },
  {
   "cell_type": "code",
   "execution_count": 10,
   "metadata": {},
   "outputs": [],
   "source": [
    "train_data = train_data.shuffle(seed=42)"
   ]
  },
  {
   "cell_type": "code",
   "execution_count": 11,
   "metadata": {},
   "outputs": [],
   "source": [
    "train_data.set_format('torch', columns=['input_ids', 'attention_mask', 'label'])\n",
    "test_data.set_format('torch', columns=['input_ids', 'attention_mask', 'label'])"
   ]
  },
  {
   "cell_type": "code",
   "execution_count": 12,
   "metadata": {},
   "outputs": [],
   "source": [
    "def compute_metrics(predictor):\n",
    "    labels = predictor.label_ids\n",
    "    preds = predictor.predictions.argmax(-1)\n",
    "    precision, recall, f1, _ = precision_recall_fscore_support(labels, preds, average='macro')\n",
    "    acc = accuracy_score(labels, preds)\n",
    "    return {\n",
    "        'accuracy' : acc,\n",
    "        'f1' : f1,\n",
    "        'precision' : precision,\n",
    "        'recall': recall\n",
    "    }"
   ]
  },
  {
   "cell_type": "code",
   "execution_count": 13,
   "metadata": {},
   "outputs": [],
   "source": [
    "# default lr=5e-5\n",
    "# fp16=True\n",
    "run_name = 'roberta-modified'\n",
    "training_args = TrainingArguments(\n",
    "    output_dir = './output4',\n",
    "    num_train_epochs=5,\n",
    "    overwrite_output_dir=True,\n",
    "    per_device_train_batch_size = BATCH_SIZE,\n",
    "    per_device_eval_batch_size= BATCH_SIZE*2,\n",
    "    gradient_accumulation_steps = 32,    \n",
    "    evaluation_strategy = 'steps',\n",
    "    save_strategy='steps',\n",
    "    eval_steps=32,\n",
    "    save_steps=64,\n",
    "    disable_tqdm = False, \n",
    "    warmup_steps=100,\n",
    "    logging_steps = 8,\n",
    "    logging_dir='./logs2',\n",
    "    dataloader_num_workers = 8,\n",
    "    run_name = run_name,\n",
    "    report_to='wandb',\n",
    "    load_best_model_at_end=True,\n",
    "    fp16=True \n",
    ")"
   ]
  },
  {
   "cell_type": "code",
   "execution_count": 14,
   "metadata": {},
   "outputs": [
    {
     "name": "stderr",
     "output_type": "stream",
     "text": [
      "Some weights of the model checkpoint at roberta-base were not used when initializing RobertaForSequenceClassification: ['roberta.pooler.dense.bias', 'lm_head.layer_norm.weight', 'lm_head.dense.bias', 'lm_head.decoder.weight', 'lm_head.layer_norm.bias', 'roberta.pooler.dense.weight', 'lm_head.dense.weight', 'lm_head.bias']\n",
      "- This IS expected if you are initializing RobertaForSequenceClassification from the checkpoint of a model trained on another task or with another architecture (e.g. initializing a BertForSequenceClassification model from a BertForPreTraining model).\n",
      "- This IS NOT expected if you are initializing RobertaForSequenceClassification from the checkpoint of a model that you expect to be exactly identical (initializing a BertForSequenceClassification model from a BertForSequenceClassification model).\n",
      "Some weights of RobertaForSequenceClassification were not initialized from the model checkpoint at roberta-base and are newly initialized: ['classifier.out_proj.bias', 'classifier.out_proj.weight', 'classifier.dense.weight', 'classifier.dense.bias']\n",
      "You should probably TRAIN this model on a down-stream task to be able to use it for predictions and inference.\n"
     ]
    }
   ],
   "source": [
    "model = RobertaForSequenceClassification.from_pretrained('roberta-base', num_labels=num_labels)\n",
    "\n",
    "trainer = Trainer(\n",
    "            model=model,\n",
    "            args=training_args,\n",
    "            compute_metrics=compute_metrics,\n",
    "            train_dataset=train_data,\n",
    "            eval_dataset=test_data\n",
    "           )"
   ]
  },
  {
   "cell_type": "code",
   "execution_count": null,
   "metadata": {},
   "outputs": [
    {
     "name": "stderr",
     "output_type": "stream",
     "text": [
      "/ext3/miniconda3/lib/python3.10/site-packages/transformers/optimization.py:391: FutureWarning: This implementation of AdamW is deprecated and will be removed in a future version. Use the PyTorch implementation torch.optim.AdamW instead, or set `no_deprecation_warning=True` to disable this warning\n",
      "  warnings.warn(\n",
      "Failed to detect the name of this notebook, you can set it manually with the WANDB_NOTEBOOK_NAME environment variable to enable code saving.\n",
      "\u001b[34m\u001b[1mwandb\u001b[0m: Currently logged in as: \u001b[33mshashvatshah9\u001b[0m (\u001b[33mshashvat\u001b[0m). Use \u001b[1m`wandb login --relogin`\u001b[0m to force relogin\n"
     ]
    },
    {
     "data": {
      "text/html": [
       "Tracking run with wandb version 0.14.0"
      ],
      "text/plain": [
       "<IPython.core.display.HTML object>"
      ]
     },
     "metadata": {},
     "output_type": "display_data"
    },
    {
     "data": {
      "text/html": [
       "Run data is saved locally in <code>/scratch/sss9772/bert/wandb/run-20230403_133607-r4brpwhr</code>"
      ],
      "text/plain": [
       "<IPython.core.display.HTML object>"
      ]
     },
     "metadata": {},
     "output_type": "display_data"
    },
    {
     "data": {
      "text/html": [
       "Syncing run <strong><a href='https://wandb.ai/shashvat/huggingface/runs/r4brpwhr' target=\"_blank\">roberta-modified</a></strong> to <a href='https://wandb.ai/shashvat/huggingface' target=\"_blank\">Weights & Biases</a> (<a href='https://wandb.me/run' target=\"_blank\">docs</a>)<br/>"
      ],
      "text/plain": [
       "<IPython.core.display.HTML object>"
      ]
     },
     "metadata": {},
     "output_type": "display_data"
    },
    {
     "data": {
      "text/html": [
       " View project at <a href='https://wandb.ai/shashvat/huggingface' target=\"_blank\">https://wandb.ai/shashvat/huggingface</a>"
      ],
      "text/plain": [
       "<IPython.core.display.HTML object>"
      ]
     },
     "metadata": {},
     "output_type": "display_data"
    },
    {
     "data": {
      "text/html": [
       " View run at <a href='https://wandb.ai/shashvat/huggingface/runs/r4brpwhr' target=\"_blank\">https://wandb.ai/shashvat/huggingface/runs/r4brpwhr</a>"
      ],
      "text/plain": [
       "<IPython.core.display.HTML object>"
      ]
     },
     "metadata": {},
     "output_type": "display_data"
    },
    {
     "data": {
      "text/html": [
       "\n",
       "    <div>\n",
       "      \n",
       "      <progress value='455' max='550' style='width:300px; height:20px; vertical-align: middle;'></progress>\n",
       "      [455/550 1:36:27 < 20:13, 0.08 it/s, Epoch 4.12/5]\n",
       "    </div>\n",
       "    <table border=\"1\" class=\"dataframe\">\n",
       "  <thead>\n",
       " <tr style=\"text-align: left;\">\n",
       "      <th>Step</th>\n",
       "      <th>Training Loss</th>\n",
       "      <th>Validation Loss</th>\n",
       "      <th>Accuracy</th>\n",
       "      <th>F1</th>\n",
       "      <th>Precision</th>\n",
       "      <th>Recall</th>\n",
       "    </tr>\n",
       "  </thead>\n",
       "  <tbody>\n",
       "    <tr>\n",
       "      <td>32</td>\n",
       "      <td>1.059400</td>\n",
       "      <td>0.690595</td>\n",
       "      <td>0.864605</td>\n",
       "      <td>0.863724</td>\n",
       "      <td>0.865072</td>\n",
       "      <td>0.864605</td>\n",
       "    </tr>\n",
       "    <tr>\n",
       "      <td>64</td>\n",
       "      <td>0.279100</td>\n",
       "      <td>0.258326</td>\n",
       "      <td>0.918158</td>\n",
       "      <td>0.917845</td>\n",
       "      <td>0.917852</td>\n",
       "      <td>0.918158</td>\n",
       "    </tr>\n",
       "    <tr>\n",
       "      <td>96</td>\n",
       "      <td>0.226300</td>\n",
       "      <td>0.218401</td>\n",
       "      <td>0.924342</td>\n",
       "      <td>0.924417</td>\n",
       "      <td>0.927464</td>\n",
       "      <td>0.924342</td>\n",
       "    </tr>\n",
       "    <tr>\n",
       "      <td>128</td>\n",
       "      <td>0.182600</td>\n",
       "      <td>0.189403</td>\n",
       "      <td>0.938026</td>\n",
       "      <td>0.938031</td>\n",
       "      <td>0.938599</td>\n",
       "      <td>0.938026</td>\n",
       "    </tr>\n",
       "    <tr>\n",
       "      <td>160</td>\n",
       "      <td>0.182800</td>\n",
       "      <td>0.185101</td>\n",
       "      <td>0.938421</td>\n",
       "      <td>0.938196</td>\n",
       "      <td>0.940690</td>\n",
       "      <td>0.938421</td>\n",
       "    </tr>\n",
       "    <tr>\n",
       "      <td>192</td>\n",
       "      <td>0.160800</td>\n",
       "      <td>0.179823</td>\n",
       "      <td>0.939605</td>\n",
       "      <td>0.939516</td>\n",
       "      <td>0.941608</td>\n",
       "      <td>0.939605</td>\n",
       "    </tr>\n",
       "    <tr>\n",
       "      <td>224</td>\n",
       "      <td>0.150200</td>\n",
       "      <td>0.157955</td>\n",
       "      <td>0.949605</td>\n",
       "      <td>0.949612</td>\n",
       "      <td>0.949671</td>\n",
       "      <td>0.949605</td>\n",
       "    </tr>\n",
       "    <tr>\n",
       "      <td>256</td>\n",
       "      <td>0.142400</td>\n",
       "      <td>0.159934</td>\n",
       "      <td>0.946579</td>\n",
       "      <td>0.946547</td>\n",
       "      <td>0.947119</td>\n",
       "      <td>0.946579</td>\n",
       "    </tr>\n",
       "    <tr>\n",
       "      <td>288</td>\n",
       "      <td>0.138300</td>\n",
       "      <td>0.165937</td>\n",
       "      <td>0.945658</td>\n",
       "      <td>0.945588</td>\n",
       "      <td>0.946926</td>\n",
       "      <td>0.945658</td>\n",
       "    </tr>\n",
       "    <tr>\n",
       "      <td>320</td>\n",
       "      <td>0.123500</td>\n",
       "      <td>0.162032</td>\n",
       "      <td>0.947895</td>\n",
       "      <td>0.947743</td>\n",
       "      <td>0.947982</td>\n",
       "      <td>0.947895</td>\n",
       "    </tr>\n",
       "    <tr>\n",
       "      <td>352</td>\n",
       "      <td>0.099200</td>\n",
       "      <td>0.166318</td>\n",
       "      <td>0.948816</td>\n",
       "      <td>0.948699</td>\n",
       "      <td>0.948801</td>\n",
       "      <td>0.948816</td>\n",
       "    </tr>\n",
       "    <tr>\n",
       "      <td>384</td>\n",
       "      <td>0.106600</td>\n",
       "      <td>0.161655</td>\n",
       "      <td>0.949868</td>\n",
       "      <td>0.949775</td>\n",
       "      <td>0.950034</td>\n",
       "      <td>0.949868</td>\n",
       "    </tr>\n",
       "    <tr>\n",
       "      <td>416</td>\n",
       "      <td>0.098200</td>\n",
       "      <td>0.161124</td>\n",
       "      <td>0.948553</td>\n",
       "      <td>0.948433</td>\n",
       "      <td>0.949128</td>\n",
       "      <td>0.948553</td>\n",
       "    </tr>\n",
       "    <tr>\n",
       "      <td>448</td>\n",
       "      <td>0.088700</td>\n",
       "      <td>0.159777</td>\n",
       "      <td>0.950658</td>\n",
       "      <td>0.950566</td>\n",
       "      <td>0.950851</td>\n",
       "      <td>0.950658</td>\n",
       "    </tr>\n",
       "  </tbody>\n",
       "</table><p>"
      ],
      "text/plain": [
       "<IPython.core.display.HTML object>"
      ]
     },
     "metadata": {},
     "output_type": "display_data"
    }
   ],
   "source": [
    "import gc\n",
    "\n",
    "try:\n",
    "    trainer.train()   \n",
    "except Exception as e:\n",
    "    print(e)\n",
    "    gc.collect()\n",
    "    torch.cuda.empty_cache()\n",
    "   "
   ]
  },
  {
   "cell_type": "code",
   "execution_count": null,
   "metadata": {},
   "outputs": [],
   "source": [
    "inputs = inputs.to(device)\n",
    "labels = labels.to(device)\n",
    "outputs = model(**inputs, labels=labels)\n",
    "loss, logits = outputs[:2]\n",
    "print(loss)\n",
    "print(logits)\n",
    "\n",
    "## Although the output we see, is label 1, i.e. sports news. DOESN'T MAKE SENSE\n",
    "print(np.argmax(logits.cpu().detach().numpy()))"
   ]
  }
 ],
 "metadata": {
  "kernelspec": {
   "display_name": "my_env_tf",
   "language": "python",
   "name": "my_env_tf"
  },
  "language_info": {
   "codemirror_mode": {
    "name": "ipython",
    "version": 3
   },
   "file_extension": ".py",
   "mimetype": "text/x-python",
   "name": "python",
   "nbconvert_exporter": "python",
   "pygments_lexer": "ipython3",
   "version": "3.10.9"
  }
 },
 "nbformat": 4,
 "nbformat_minor": 4
}

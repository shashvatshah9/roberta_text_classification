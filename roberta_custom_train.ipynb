{
 "cells": [
  {
   "cell_type": "code",
   "execution_count": 2,
   "metadata": {},
   "outputs": [
    {
     "name": "stdout",
     "output_type": "stream",
     "text": [
      "Sat Apr  1 23:27:31 2023       \n",
      "+-----------------------------------------------------------------------------+\n",
      "| NVIDIA-SMI 520.61.05    Driver Version: 520.61.05    CUDA Version: 11.8     |\n",
      "|-------------------------------+----------------------+----------------------+\n",
      "| GPU  Name        Persistence-M| Bus-Id        Disp.A | Volatile Uncorr. ECC |\n",
      "| Fan  Temp  Perf  Pwr:Usage/Cap|         Memory-Usage | GPU-Util  Compute M. |\n",
      "|                               |                      |               MIG M. |\n",
      "|===============================+======================+======================|\n",
      "|   0  Tesla V100-SXM2...  On   | 00000000:0B:00.0 Off |                    0 |\n",
      "| N/A   36C    P0    41W / 163W |      0MiB / 32768MiB |      0%      Default |\n",
      "|                               |                      |                  N/A |\n",
      "+-------------------------------+----------------------+----------------------+\n",
      "                                                                               \n",
      "+-----------------------------------------------------------------------------+\n",
      "| Processes:                                                                  |\n",
      "|  GPU   GI   CI        PID   Type   Process name                  GPU Memory |\n",
      "|        ID   ID                                                   Usage      |\n",
      "|=============================================================================|\n",
      "|  No running processes found                                                 |\n",
      "+-----------------------------------------------------------------------------+\n"
     ]
    }
   ],
   "source": [
    "! nvidia-smi"
   ]
  },
  {
   "cell_type": "code",
   "execution_count": 3,
   "metadata": {},
   "outputs": [],
   "source": [
    "import os\n",
    "import time\n",
    "import torch\n",
    "imoprt torch.nn as nn\n",
    "from torch.utils.data import Dataset, DataLoader, random_split\n",
    "\n",
    "from transformers import RobertaForSequenceClassification, RobertaTokenizer\n",
    "from datasets import load_dataset\n",
    "import numpy as np\n",
    "from sklearn.metrics import accuracy_score, precision_recall_fscore_support"
   ]
  },
  {
   "cell_type": "code",
   "execution_count": 4,
   "metadata": {},
   "outputs": [],
   "source": [
    "t = torch.cuda.get_device_properties(0).total_memory\n",
    "BATCH_SIZE = int(np.floor(t/1e9))\n"
   ]
  },
  {
   "cell_type": "code",
   "execution_count": 5,
   "metadata": {},
   "outputs": [
    {
     "name": "stderr",
     "output_type": "stream",
     "text": [
      "Found cached dataset ag_news (/home/sss9772/.cache/huggingface/datasets/ag_news/default/0.0.0/bc2bcb40336ace1a0374767fc29bb0296cdaf8a6da7298436239c54d79180548)\n"
     ]
    },
    {
     "data": {
      "application/vnd.jupyter.widget-view+json": {
       "model_id": "09353ae35919456bac85f0e9d8bef222",
       "version_major": 2,
       "version_minor": 0
      },
      "text/plain": [
       "  0%|          | 0/2 [00:00<?, ?it/s]"
      ]
     },
     "metadata": {},
     "output_type": "display_data"
    },
    {
     "name": "stdout",
     "output_type": "stream",
     "text": [
      "['World', 'Sports', 'Business', 'Sci/Tech']\n"
     ]
    }
   ],
   "source": [
    "tokenizer = RobertaTokenizer.from_pretrained('roberta-base')\n",
    "dataset = load_dataset('ag_news')\n",
    "print(dataset['train'].features['label'].names)\n",
    "num_labels = len(dataset['train'].features['label'].names)"
   ]
  },
  {
   "cell_type": "code",
   "execution_count": 6,
   "metadata": {},
   "outputs": [
    {
     "name": "stderr",
     "output_type": "stream",
     "text": [
      "Some weights of the model checkpoint at roberta-base were not used when initializing RobertaForSequenceClassification: ['lm_head.layer_norm.weight', 'lm_head.dense.weight', 'lm_head.dense.bias', 'roberta.pooler.dense.bias', 'lm_head.decoder.weight', 'lm_head.layer_norm.bias', 'roberta.pooler.dense.weight', 'lm_head.bias']\n",
      "- This IS expected if you are initializing RobertaForSequenceClassification from the checkpoint of a model trained on another task or with another architecture (e.g. initializing a BertForSequenceClassification model from a BertForPreTraining model).\n",
      "- This IS NOT expected if you are initializing RobertaForSequenceClassification from the checkpoint of a model that you expect to be exactly identical (initializing a BertForSequenceClassification model from a BertForSequenceClassification model).\n",
      "Some weights of RobertaForSequenceClassification were not initialized from the model checkpoint at roberta-base and are newly initialized: ['classifier.dense.bias', 'classifier.out_proj.bias', 'classifier.dense.weight', 'classifier.out_proj.weight']\n",
      "You should probably TRAIN this model on a down-stream task to be able to use it for predictions and inference.\n"
     ]
    }
   ],
   "source": [
    "model = RobertaForSequenceClassification.from_pretrained('roberta-base', num_labels=num_labels)"
   ]
  },
  {
   "cell_type": "code",
   "execution_count": 7,
   "metadata": {},
   "outputs": [
    {
     "name": "stdout",
     "output_type": "stream",
     "text": [
      "tensor(1.3094, grad_fn=<NllLossBackward0>)\n",
      "tensor([[ 0.0483,  0.0896, -0.1313,  0.0305]], grad_fn=<AddmmBackward0>)\n",
      "1\n"
     ]
    }
   ],
   "source": [
    "## input string, should classify as a business news\n",
    "input_str = 'the quarterly results of jpmc look good'\n",
    "\n",
    "inputs = tokenizer(input_str, return_tensors='pt')\n",
    "labels = torch.tensor([1]).unsqueeze(0)\n",
    "outputs = model(**inputs, labels=labels)\n",
    "loss, logits = outputs[:2]\n",
    "print(loss)\n",
    "print(logits)\n",
    "\n",
    "## Although the output we see, is label 1, i.e. sports news. DOESN'T MAKE SENSE\n",
    "print(np.argmax(logits.detach().numpy()))"
   ]
  },
  {
   "cell_type": "code",
   "execution_count": 8,
   "metadata": {},
   "outputs": [],
   "source": [
    "device = torch.device('cuda' if torch.cuda.is_available() else 'cpu')"
   ]
  },
  {
   "cell_type": "code",
   "execution_count": 9,
   "metadata": {},
   "outputs": [
    {
     "name": "stderr",
     "output_type": "stream",
     "text": [
      "Loading cached processed dataset at /home/sss9772/.cache/huggingface/datasets/ag_news/default/0.0.0/bc2bcb40336ace1a0374767fc29bb0296cdaf8a6da7298436239c54d79180548/cache-9eea6d1172669b3b.arrow\n",
      "Loading cached processed dataset at /home/sss9772/.cache/huggingface/datasets/ag_news/default/0.0.0/bc2bcb40336ace1a0374767fc29bb0296cdaf8a6da7298436239c54d79180548/cache-a399d57179296d98.arrow\n"
     ]
    }
   ],
   "source": [
    "train_data = dataset['train'].map(lambda text: tokenizer(text['text'], padding=\"max_length\", truncation=True, max_length=512), batched=True)\n",
    "test_data = dataset['test'].map(lambda text: tokenizer(text['text'], padding=\"max_length\", truncation=True, max_length=512), batched=True)"
   ]
  },
  {
   "cell_type": "code",
   "execution_count": 10,
   "metadata": {},
   "outputs": [
    {
     "name": "stderr",
     "output_type": "stream",
     "text": [
      "Loading cached shuffled indices for dataset at /home/sss9772/.cache/huggingface/datasets/ag_news/default/0.0.0/bc2bcb40336ace1a0374767fc29bb0296cdaf8a6da7298436239c54d79180548/cache-35881949ebb31f70.arrow\n"
     ]
    }
   ],
   "source": [
    "train_data = train_data.shuffle(seed=42)"
   ]
  },
  {
   "cell_type": "code",
   "execution_count": 11,
   "metadata": {},
   "outputs": [],
   "source": [
    "train_data.set_format('torch', columns=['input_ids', 'attention_mask', 'label'])\n",
    "test_data.set_format('torch', columns=['input_ids', 'attention_mask', 'label'])"
   ]
  },
  {
   "cell_type": "code",
   "execution_count": 12,
   "metadata": {},
   "outputs": [],
   "source": [
    "def compute_metrics(labels, preds):\n",
    "    \n",
    "    precision, recall, f1, _ = precision_recall_fscore_support(labels, preds, average='macro')\n",
    "    acc = accuracy_score(labels, preds)\n",
    "    return {\n",
    "        'accuracy' : acc,\n",
    "        'f1' : f1,\n",
    "        'precision' : precision,\n",
    "        'recall': recall\n",
    "    }"
   ]
  },
  {
   "cell_type": "code",
   "execution_count": 14,
   "metadata": {},
   "outputs": [
    {
     "name": "stderr",
     "output_type": "stream",
     "text": [
      "Some weights of the model checkpoint at roberta-base were not used when initializing RobertaForSequenceClassification: ['lm_head.layer_norm.weight', 'lm_head.dense.weight', 'lm_head.dense.bias', 'roberta.pooler.dense.bias', 'lm_head.decoder.weight', 'lm_head.layer_norm.bias', 'roberta.pooler.dense.weight', 'lm_head.bias']\n",
      "- This IS expected if you are initializing RobertaForSequenceClassification from the checkpoint of a model trained on another task or with another architecture (e.g. initializing a BertForSequenceClassification model from a BertForPreTraining model).\n",
      "- This IS NOT expected if you are initializing RobertaForSequenceClassification from the checkpoint of a model that you expect to be exactly identical (initializing a BertForSequenceClassification model from a BertForSequenceClassification model).\n",
      "Some weights of RobertaForSequenceClassification were not initialized from the model checkpoint at roberta-base and are newly initialized: ['classifier.dense.bias', 'classifier.out_proj.bias', 'classifier.dense.weight', 'classifier.out_proj.weight']\n",
      "You should probably TRAIN this model on a down-stream task to be able to use it for predictions and inference.\n"
     ]
    }
   ],
   "source": [
    "\n",
    "\n",
    "EPOCHS = 5\n",
    "\n",
    "def train_model(trainingDataset, model, device, optimizer, loss):\n",
    "    model.train()\n",
    "    model.to(device)\n",
    "    for epoch in range(EPOCHS):\n",
    "\n",
    "        train_dataset, validation_dataset = random_split(dataset, [int(len(dataset)*0.8), len(dataset)- int(len(dataset)*0.8)])\n",
    "        # 8 dataloader workers are we have a 8 core CPU\n",
    "        train_dataloader = DataLoader(train_dataset, batch_size=BATCH_SIZE, num_workers = 8, shuffle=True)\n",
    "        validation_dataloader = DataLoader(validation_dataset, batch_size=BATCH_SIZE, num_workers= 8, shuffle=False)\n",
    "        \n",
    "        running_loss = 0.0\n",
    "        n_samples = 0\n",
    "\n",
    "        all_preds = []\n",
    "        all_labels = []\n",
    "\n",
    "        for input, labels in train_dataloader:\n",
    "            # push data to compute device\n",
    "            input = input.to(device)\n",
    "            labels = labels.to(device)\n",
    "            # predict the output\n",
    "            pred = model(**inputs, labels=labels)\n",
    "            # find the output label\n",
    "            pred_labels = torch.argmax(pred, dim=-1)\n",
    "            # compute the loss\n",
    "            loss_vals = loss(pred_labels, labels)\n",
    "            all_preds.extend(pred_labels.detach().to(\"cpu\"))\n",
    "            all_labels.extend(labels.detach().to(\"cpu\"))\n",
    "\n",
    "            optimizer.zero_grad()\n",
    "            # backprop\n",
    "            loss.backward()\n",
    "            optimizer.step()\n",
    "            # accumate the loss\n",
    "            running_loss += loss_vals * input.size(0)\n",
    "            n_samples += input.size(0)\n",
    "        \n",
    "        metrics = compute_metrics(all_labels, all_preds)\n",
    "        print(f'Epoch {epoch+1} metrics Acc : {metrics['acc']} F1 : {metrics['f1']} Train Loss : {running_loss/n_samples}')\n",
    "        evaluate_model(model, model, device)\n",
    "\n",
    "            \n",
    "\n",
    "def evaluate_model(dataloader, model, device):\n",
    "    running_loss = 0.0\n",
    "    n_samples = 0\n",
    "\n",
    "    all_preds = []\n",
    "    all_labels = []\n",
    "\n",
    "    for input, labels in dataloader:\n",
    "        # push data to compute device\n",
    "        input = input.to(device)\n",
    "        labels = labels.to(device)\n",
    "        # predict the output\n",
    "        pred = model(**inputs, labels=labels)\n",
    "        # find the output label\n",
    "        pred_labels = torch.argmax(pred, dim=-1)\n",
    "        # compute the loss\n",
    "        loss_vals = loss(pred_labels, labels)\n",
    "        all_preds.extend(pred_labels.detach().to(\"cpu\"))\n",
    "        all_labels.extend(labels.detach().to(\"cpu\"))\n",
    "\n",
    "        # accumate the loss\n",
    "        running_loss += loss_vals * input.size(0)\n",
    "        n_samples += input.size(0)\n",
    "    \n",
    "    metrics = compute_metrics(all_labels, all_preds)\n",
    "    print(f'Validation {epoch+1} metrics: Acc : {metrics['acc']} F1 : {metrics['f1']} Eval Loss : {running_loss/n_samples}')\n",
    "        \n"
   ]
  },
  {
   "cell_type": "code",
   "execution_count": 15,
   "metadata": {},
   "outputs": [
    {
     "name": "stderr",
     "output_type": "stream",
     "text": [
      "/ext3/miniconda3/lib/python3.10/site-packages/transformers/optimization.py:391: FutureWarning: This implementation of AdamW is deprecated and will be removed in a future version. Use the PyTorch implementation torch.optim.AdamW instead, or set `no_deprecation_warning=True` to disable this warning\n",
      "  warnings.warn(\n",
      "Failed to detect the name of this notebook, you can set it manually with the WANDB_NOTEBOOK_NAME environment variable to enable code saving.\n",
      "\u001b[34m\u001b[1mwandb\u001b[0m: Currently logged in as: \u001b[33mshashvatshah9\u001b[0m (\u001b[33mshashvat\u001b[0m). Use \u001b[1m`wandb login --relogin`\u001b[0m to force relogin\n"
     ]
    },
    {
     "data": {
      "text/html": [
       "Tracking run with wandb version 0.14.0"
      ],
      "text/plain": [
       "<IPython.core.display.HTML object>"
      ]
     },
     "metadata": {},
     "output_type": "display_data"
    },
    {
     "data": {
      "text/html": [
       "Run data is saved locally in <code>/scratch/sss9772/bert/wandb/run-20230401_232815-ucov8qyi</code>"
      ],
      "text/plain": [
       "<IPython.core.display.HTML object>"
      ]
     },
     "metadata": {},
     "output_type": "display_data"
    },
    {
     "data": {
      "text/html": [
       "Syncing run <strong><a href='https://wandb.ai/shashvat/huggingface/runs/ucov8qyi' target=\"_blank\">roberta-classification-1680406083.4542882</a></strong> to <a href='https://wandb.ai/shashvat/huggingface' target=\"_blank\">Weights & Biases</a> (<a href='https://wandb.me/run' target=\"_blank\">docs</a>)<br/>"
      ],
      "text/plain": [
       "<IPython.core.display.HTML object>"
      ]
     },
     "metadata": {},
     "output_type": "display_data"
    },
    {
     "data": {
      "text/html": [
       " View project at <a href='https://wandb.ai/shashvat/huggingface' target=\"_blank\">https://wandb.ai/shashvat/huggingface</a>"
      ],
      "text/plain": [
       "<IPython.core.display.HTML object>"
      ]
     },
     "metadata": {},
     "output_type": "display_data"
    },
    {
     "data": {
      "text/html": [
       " View run at <a href='https://wandb.ai/shashvat/huggingface/runs/ucov8qyi' target=\"_blank\">https://wandb.ai/shashvat/huggingface/runs/ucov8qyi</a>"
      ],
      "text/plain": [
       "<IPython.core.display.HTML object>"
      ]
     },
     "metadata": {},
     "output_type": "display_data"
    },
    {
     "data": {
      "text/html": [
       "\n",
       "    <div>\n",
       "      \n",
       "      <progress value='330' max='330' style='width:300px; height:20px; vertical-align: middle;'></progress>\n",
       "      [330/330 1:18:22, Epoch 2/3]\n",
       "    </div>\n",
       "    <table border=\"1\" class=\"dataframe\">\n",
       "  <thead>\n",
       " <tr style=\"text-align: left;\">\n",
       "      <th>Epoch</th>\n",
       "      <th>Training Loss</th>\n",
       "      <th>Validation Loss</th>\n",
       "      <th>Accuracy</th>\n",
       "      <th>F1</th>\n",
       "      <th>Precision</th>\n",
       "      <th>Recall</th>\n",
       "    </tr>\n",
       "  </thead>\n",
       "  <tbody>\n",
       "    <tr>\n",
       "      <td>0</td>\n",
       "      <td>0.208500</td>\n",
       "      <td>0.200851</td>\n",
       "      <td>0.936842</td>\n",
       "      <td>0.936689</td>\n",
       "      <td>0.936706</td>\n",
       "      <td>0.936842</td>\n",
       "    </tr>\n",
       "    <tr>\n",
       "      <td>1</td>\n",
       "      <td>0.168600</td>\n",
       "      <td>0.164100</td>\n",
       "      <td>0.946711</td>\n",
       "      <td>0.946759</td>\n",
       "      <td>0.946897</td>\n",
       "      <td>0.946711</td>\n",
       "    </tr>\n",
       "    <tr>\n",
       "      <td>2</td>\n",
       "      <td>0.131900</td>\n",
       "      <td>0.159227</td>\n",
       "      <td>0.948684</td>\n",
       "      <td>0.948588</td>\n",
       "      <td>0.948957</td>\n",
       "      <td>0.948684</td>\n",
       "    </tr>\n",
       "  </tbody>\n",
       "</table><p>"
      ],
      "text/plain": [
       "<IPython.core.display.HTML object>"
      ]
     },
     "metadata": {},
     "output_type": "display_data"
    }
   ],
   "source": [
    "import gc\n",
    "\n",
    "try:\n",
    "    model = RobertaForSequenceClassification.from_pretrained('roberta-base', num_labels=num_labels)\n",
    "    model.to(device)\n",
    "    optimizer = nn.optim.Adam(model.parameters(), lr=1e-3)\n",
    "    losss = nn.CrossEntropyLoss()\n",
    "    train_model(train_data, model, device, optimizer, loss)\n",
    "except Exception as e:\n",
    "    print(e)\n",
    "    gc.collect()\n",
    "    torch.cuda.empty_cache()\n",
    "   "
   ]
  },
  {
   "cell_type": "code",
   "execution_count": 16,
   "metadata": {},
   "outputs": [
    {
     "name": "stdout",
     "output_type": "stream",
     "text": [
      "tensor(7.6751, device='cuda:0', grad_fn=<NllLossBackward0>)\n",
      "tensor([[-2.4960, -3.8934,  3.5045,  2.3540]], device='cuda:0',\n",
      "       grad_fn=<AddmmBackward0>)\n",
      "2\n"
     ]
    }
   ],
   "source": [
    "inputs = inputs.to(device)\n",
    "labels = labels.to(device)\n",
    "outputs = model(**inputs, labels=labels)\n",
    "loss, logits = outputs[:2]\n",
    "print(loss)\n",
    "print(logits)\n",
    "\n",
    "## Although the output we see, is label 1, i.e. sports news. DOESN'T MAKE SENSE\n",
    "print(np.argmax(logits.cpu().detach().numpy()))"
   ]
  }
 ],
 "metadata": {
  "kernelspec": {
   "display_name": "my_env_tf",
   "language": "python",
   "name": "my_env_tf"
  },
  "language_info": {
   "codemirror_mode": {
    "name": "ipython",
    "version": 3
   },
   "file_extension": ".py",
   "mimetype": "text/x-python",
   "name": "python",
   "nbconvert_exporter": "python",
   "pygments_lexer": "ipython3",
   "version": "3.10.9"
  }
 },
 "nbformat": 4,
 "nbformat_minor": 4
}
